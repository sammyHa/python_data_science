{
  "nbformat": 4,
  "nbformat_minor": 0,
  "metadata": {
    "colab": {
      "name": "Numpy",
      "provenance": [],
      "collapsed_sections": [],
      "authorship_tag": "ABX9TyND2Qeqh/p+KUtqLwM7dvLs",
      "include_colab_link": true
    },
    "kernelspec": {
      "name": "python3",
      "display_name": "Python 3"
    }
  },
  "cells": [
    {
      "cell_type": "markdown",
      "metadata": {
        "id": "view-in-github",
        "colab_type": "text"
      },
      "source": [
        "<a href=\"https://colab.research.google.com/github/sammyHa/python_data_science/blob/main/Numpy.ipynb\" target=\"_parent\"><img src=\"https://colab.research.google.com/assets/colab-badge.svg\" alt=\"Open In Colab\"/></a>"
      ]
    },
    {
      "cell_type": "markdown",
      "metadata": {
        "id": "vjplbzhfPC6Q"
      },
      "source": [
        "## Numpy uses contiguous memory. its faster then python lists.\n",
        "\n",
        "##Benefits of using numpy:\n",
        "*   SIMD Vector processing\n",
        "*   Effective Cache Utilization\n",
        "\n",
        "\n",
        "Insertion, deletion etc.\n",
        "\n",
        "* eg: list: a = [1, 2, 3]\n",
        "            b = [1, 2, 3]\n",
        "            a * b = ERROR\n",
        "* eg: Numpy: a * b = np.array([1, 6, 15])\n",
        "\n",
        "## Application of Numpy\n",
        "* Mathematics (replacement of MATHLAB)\n",
        "* PLOTTING (Mathplotlib)\n",
        "* Backend (Pandas, Connect 4, Ditital Photography)\n",
        "* Important for Machine Learning \n",
        "\n",
        "\n",
        "\n",
        "\n"
      ]
    },
    {
      "cell_type": "code",
      "metadata": {
        "id": "9FZdAe9NNJK_"
      },
      "source": [
        "import numpy as np\n"
      ],
      "execution_count": null,
      "outputs": []
    },
    {
      "cell_type": "code",
      "metadata": {
        "id": "c8sog-cENLw3",
        "outputId": "53f7a7cd-1074-44df-ad75-ba4c574ddbd5",
        "colab": {
          "base_uri": "https://localhost:8080/"
        }
      },
      "source": [
        "## init array\n",
        "a = np.array([1, 2 ,3],dtype='int8' )\n",
        "print(a)"
      ],
      "execution_count": null,
      "outputs": [
        {
          "output_type": "stream",
          "text": [
            "[1 2 3]\n"
          ],
          "name": "stdout"
        }
      ]
    },
    {
      "cell_type": "code",
      "metadata": {
        "id": "bdmb8ESI2fvP",
        "outputId": "12fe683f-a5ad-4fda-83c3-f4443189cbd5",
        "colab": {
          "base_uri": "https://localhost:8080/"
        }
      },
      "source": [
        "## multi-dim array\n",
        "b = np.array([[9.0, 8.0, 7.0],[6.0, 5.0, 4.0]])\n",
        "print(b)"
      ],
      "execution_count": null,
      "outputs": [
        {
          "output_type": "stream",
          "text": [
            "[[9. 8. 7.]\n",
            " [6. 5. 4.]]\n"
          ],
          "name": "stdout"
        }
      ]
    },
    {
      "cell_type": "code",
      "metadata": {
        "id": "jV05OqtF2wS3",
        "outputId": "37b61df5-8110-4db2-8645-8796f94782d2",
        "colab": {
          "base_uri": "https://localhost:8080/"
        }
      },
      "source": [
        "# Get Dimension\n",
        "b.ndim"
      ],
      "execution_count": null,
      "outputs": [
        {
          "output_type": "execute_result",
          "data": {
            "text/plain": [
              "2"
            ]
          },
          "metadata": {
            "tags": []
          },
          "execution_count": 7
        }
      ]
    },
    {
      "cell_type": "code",
      "metadata": {
        "id": "QUo2q7oH28Yc",
        "outputId": "8f4c07d4-9615-4621-e9d3-9f519b4d47d3",
        "colab": {
          "base_uri": "https://localhost:8080/"
        }
      },
      "source": [
        "# Get shape\n",
        "b.shape"
      ],
      "execution_count": null,
      "outputs": [
        {
          "output_type": "execute_result",
          "data": {
            "text/plain": [
              "(2, 3)"
            ]
          },
          "metadata": {
            "tags": []
          },
          "execution_count": 9
        }
      ]
    },
    {
      "cell_type": "code",
      "metadata": {
        "id": "YmSkG-0q3DUY",
        "outputId": "e7d9e928-83ae-48fa-8341-b99b6d6d79c9",
        "colab": {
          "base_uri": "https://localhost:8080/"
        }
      },
      "source": [
        "#Get type\n",
        "a.dtype"
      ],
      "execution_count": null,
      "outputs": [
        {
          "output_type": "execute_result",
          "data": {
            "text/plain": [
              "dtype('int64')"
            ]
          },
          "metadata": {
            "tags": []
          },
          "execution_count": 10
        }
      ]
    },
    {
      "cell_type": "code",
      "metadata": {
        "id": "6sO0cY5t3IZg",
        "outputId": "d25fed2a-6154-4ff3-d945-a36369d138db",
        "colab": {
          "base_uri": "https://localhost:8080/"
        }
      },
      "source": [
        "# Get Size, change the dtype='int16, int32, and default is int64 in the array above\n",
        "a.itemsize"
      ],
      "execution_count": null,
      "outputs": [
        {
          "output_type": "execute_result",
          "data": {
            "text/plain": [
              "1"
            ]
          },
          "metadata": {
            "tags": []
          },
          "execution_count": 20
        }
      ]
    },
    {
      "cell_type": "code",
      "metadata": {
        "id": "ANYRZ9ZU3VhP",
        "outputId": "c90867d1-e145-49e8-dcc2-f892dc042137",
        "colab": {
          "base_uri": "https://localhost:8080/"
        }
      },
      "source": [
        "# total size of the item number of bytes\n",
        "a.nbytes\n"
      ],
      "execution_count": null,
      "outputs": [
        {
          "output_type": "execute_result",
          "data": {
            "text/plain": [
              "3"
            ]
          },
          "metadata": {
            "tags": []
          },
          "execution_count": 25
        }
      ]
    },
    {
      "cell_type": "markdown",
      "metadata": {
        "id": "B5flcjwT4Xzf"
      },
      "source": [
        "## Accessing/Changing specific elements, rows, columns etc"
      ]
    },
    {
      "cell_type": "code",
      "metadata": {
        "id": "EdQFLg8h36Mw",
        "outputId": "7b04ff7b-4b3e-48f9-f598-a8c7e4470d59",
        "colab": {
          "base_uri": "https://localhost:8080/"
        }
      },
      "source": [
        "c = np.array([[1, 2 ,3, 4, 5, 6, 7], [8, 9, 10, 11, 12, 13 ,14]])\n",
        "print(c)"
      ],
      "execution_count": null,
      "outputs": [
        {
          "output_type": "stream",
          "text": [
            "[[ 1  2  3  4  5  6  7]\n",
            " [ 8  9 10 11 12 13 14]]\n"
          ],
          "name": "stdout"
        }
      ]
    },
    {
      "cell_type": "code",
      "metadata": {
        "id": "kCOn9Sar4RSf",
        "outputId": "b2051b61-78a5-4e2c-984a-c5d7f5dbf44e",
        "colab": {
          "base_uri": "https://localhost:8080/"
        }
      },
      "source": [
        "# Get a specific elemetnt in array [r, c]\n",
        "\n",
        "c [1, 5]"
      ],
      "execution_count": null,
      "outputs": [
        {
          "output_type": "execute_result",
          "data": {
            "text/plain": [
              "13"
            ]
          },
          "metadata": {
            "tags": []
          },
          "execution_count": 32
        }
      ]
    },
    {
      "cell_type": "code",
      "metadata": {
        "id": "NujClKei5GJx",
        "outputId": "ebca70c5-03cb-462c-c1f1-d08f2c993201",
        "colab": {
          "base_uri": "https://localhost:8080/"
        }
      },
      "source": [
        "# Get specifi row, using the slice (:) to get all the columns\n",
        "c[0,:]"
      ],
      "execution_count": null,
      "outputs": [
        {
          "output_type": "execute_result",
          "data": {
            "text/plain": [
              "array([1, 2, 3, 4, 5, 6, 7])"
            ]
          },
          "metadata": {
            "tags": []
          },
          "execution_count": 39
        }
      ]
    },
    {
      "cell_type": "code",
      "metadata": {
        "id": "QgGUWBaD5f8L",
        "outputId": "373ffe43-ea16-4cbc-b944-8eb1c5edc7ee",
        "colab": {
          "base_uri": "https://localhost:8080/"
        }
      },
      "source": [
        "# Get a specific column\n",
        "c[:, 2]"
      ],
      "execution_count": null,
      "outputs": [
        {
          "output_type": "execute_result",
          "data": {
            "text/plain": [
              "array([ 3, 10])"
            ]
          },
          "metadata": {
            "tags": []
          },
          "execution_count": 38
        }
      ]
    },
    {
      "cell_type": "code",
      "metadata": {
        "id": "DHhkFs1P55_6",
        "outputId": "a596f794-0bd3-4e53-820e-252da3006418",
        "colab": {
          "base_uri": "https://localhost:8080/"
        }
      },
      "source": [
        "# Getting the start and end with spteps columns => syntax [startindex:endindex:stepsize]\n",
        "\n",
        "c [0, 1:6:2]"
      ],
      "execution_count": null,
      "outputs": [
        {
          "output_type": "execute_result",
          "data": {
            "text/plain": [
              "array([2, 4, 6])"
            ]
          },
          "metadata": {
            "tags": []
          },
          "execution_count": 43
        }
      ]
    },
    {
      "cell_type": "code",
      "metadata": {
        "id": "zrszEOvJ6v0F",
        "outputId": "fcf70e75-9529-4f0f-8fb5-4f20899206b7",
        "colab": {
          "base_uri": "https://localhost:8080/"
        }
      },
      "source": [
        "# alter the array and replace elements\n",
        "c [1, 5] = 20\n",
        "print(c)"
      ],
      "execution_count": null,
      "outputs": [
        {
          "output_type": "stream",
          "text": [
            "[[ 1  2  3  4  5  6  7]\n",
            " [ 8  9 10 11 12 20 14]]\n"
          ],
          "name": "stdout"
        }
      ]
    },
    {
      "cell_type": "code",
      "metadata": {
        "id": "DcoFnyDP68w3",
        "outputId": "7ff284f7-ec3f-4e79-9a87-adbde24bccb9",
        "colab": {
          "base_uri": "https://localhost:8080/"
        }
      },
      "source": [
        "# replace the entire column\n",
        "c [:, 2] = [1, 2]\n",
        "print(c)"
      ],
      "execution_count": null,
      "outputs": [
        {
          "output_type": "stream",
          "text": [
            "[[ 1  2  1  4  5  6  7]\n",
            " [ 8  9  2 11 12 20 14]]\n"
          ],
          "name": "stdout"
        }
      ]
    },
    {
      "cell_type": "markdown",
      "metadata": {
        "id": "_sob5Tqg7hWK"
      },
      "source": [
        "# 3-d example\n"
      ]
    },
    {
      "cell_type": "code",
      "metadata": {
        "id": "QzHaPMRg63gc"
      },
      "source": [
        ""
      ],
      "execution_count": null,
      "outputs": []
    }
  ]
}